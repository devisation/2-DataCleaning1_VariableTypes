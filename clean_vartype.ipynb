{
 "cells": [
  {
   "cell_type": "code",
   "execution_count": 2,
   "metadata": {},
   "outputs": [],
   "source": [
    "import numpy as np\n",
    "import pandas as pd\n"
   ]
  },
  {
   "cell_type": "code",
   "execution_count": 35,
   "metadata": {},
   "outputs": [],
   "source": [
    "movies_raw = pd.read_csv('data/movies.csv')"
   ]
  },
  {
   "cell_type": "markdown",
   "metadata": {},
   "source": [
    "# 1\n"
   ]
  },
  {
   "cell_type": "markdown",
   "metadata": {},
   "source": [
    "Variable: type\n",
    "- Age: continuous\n",
    "- Salary: discrete\n",
    "- Income: discrete\n",
    "- Customer type: nominal\n",
    "- Stock price: discrete"
   ]
  },
  {
   "cell_type": "markdown",
   "metadata": {},
   "source": [
    "# 2\n"
   ]
  },
  {
   "cell_type": "code",
   "execution_count": 34,
   "metadata": {},
   "outputs": [
    {
     "data": {
      "text/plain": [
       "Index(['Rank', 'Title', 'Genre', 'Description', 'Director', 'Actors', 'Year',\n",
       "       'Runtime (Minutes)', 'rating_bin', 'Rating', 'Votes',\n",
       "       'Revenue (Millions)', 'Metascore'],\n",
       "      dtype='object')"
      ]
     },
     "execution_count": 34,
     "metadata": {},
     "output_type": "execute_result"
    }
   ],
   "source": [
    "movies_raw.columns"
   ]
  },
  {
   "cell_type": "code",
   "execution_count": 19,
   "metadata": {},
   "outputs": [
    {
     "data": {
      "text/plain": [
       "array([1.9, 2.7, 3.2, 3.5, 3.7, 3.9, 4. , 4.1, 4.2, 4.3, 4.4, 4.5, 4.6,\n",
       "       4.7, 4.8, 4.9, 5. , 5.1, 5.2, 5.3, 5.4, 5.5, 5.6, 5.7, 5.8, 5.9,\n",
       "       6. , 6.1, 6.2, 6.3, 6.4, 6.5, 6.6, 6.7, 6.8, 6.9, 7. , 7.1, 7.2,\n",
       "       7.3, 7.4, 7.5, 7.6, 7.7, 7.8, 7.9, 8. , 8.1, 8.2, 8.3, 8.4, 8.5,\n",
       "       8.6, 8.8, 9. ])"
      ]
     },
     "execution_count": 19,
     "metadata": {},
     "output_type": "execute_result"
    }
   ],
   "source": [
    "ratings = np.sort(movies_raw['Rating'].unique())\n",
    "ratings"
   ]
  },
  {
   "cell_type": "markdown",
   "metadata": {},
   "source": [
    "- The variable `Rating` is a ordinal categorical variable, since, for example, the fact that one movie has a rating of 9.0 doesn't actually tell one how much better the movie is than one rated 8.8."
   ]
  },
  {
   "cell_type": "code",
   "execution_count": 45,
   "metadata": {},
   "outputs": [
    {
     "name": "stdout",
     "output_type": "stream",
     "text": [
      "Rating Bin 2 has 1 movie(s)\n",
      "Rating Bin 3 has 3 movie(s)\n",
      "Rating Bin 4 has 17 movie(s)\n",
      "Rating Bin 5 has 66 movie(s)\n",
      "Rating Bin 6 has 310 movie(s)\n",
      "Rating Bin 7 has 373 movie(s)\n",
      "Rating Bin 8 has 224 movie(s)\n",
      "Rating Bin 9 has 6 movie(s)\n"
     ]
    }
   ],
   "source": [
    "def categorize_rating(rating):\n",
    "    return np.round(rating).astype(int)\n",
    "\n",
    "movies = movies_raw.copy()\n",
    "movies.insert(movies_raw.columns.get_loc('Rating'), \n",
    "                  'rating_bin',\n",
    "                  movies_raw['Rating'].apply(categorize_rating))\n",
    "ratingbins = movies['rating_bin'].value_counts().sort_index()\n",
    "for bin,count in ratingbins.items():\n",
    "    print(f'Rating Bin {bin} has {count} movie(s)')"
   ]
  },
  {
   "cell_type": "markdown",
   "metadata": {},
   "source": [
    "# 3"
   ]
  },
  {
   "cell_type": "markdown",
   "metadata": {},
   "source": [
    "Categorical variables can sometimes be converted into numerical variables, but only if one can find a method to quantify each categorical value, which is extremely rare."
   ]
  },
  {
   "cell_type": "markdown",
   "metadata": {},
   "source": [
    "# 4\n"
   ]
  },
  {
   "cell_type": "markdown",
   "metadata": {},
   "source": [
    "A discrete representation of a continuous variable may be preferred over the continuous representation when one wants to display the variable's value, or when one needs to bin the variable into groups with similar values for whatever reason."
   ]
  },
  {
   "cell_type": "markdown",
   "metadata": {},
   "source": [
    "# 5"
   ]
  },
  {
   "cell_type": "markdown",
   "metadata": {},
   "source": [
    "- Subjective ratings are an example of a confusing piece of data that one cannot tell if it's counted or measured. Does it make sense to say if Allice rates a movie 8/10, and Bob and Charlie rate the same move 5/10, is it useful to say \"the average rating is 6/10\", or does that not make sense since each persons rating scale may be differently weighted? I would say the latter.\n",
    "- Similarly, is the color of something equivalent to the primary wavelength of light it reflects, or is it what a person would call the color if they see it? In this case, I would tend to think the former makes more sense, since people's perceptions of whether colors are distinguishable can vary significantly."
   ]
  },
  {
   "cell_type": "markdown",
   "metadata": {},
   "source": []
  }
 ],
 "metadata": {
  "kernelspec": {
   "display_name": "Python 3.9.12 ('datsci')",
   "language": "python",
   "name": "python3"
  },
  "language_info": {
   "codemirror_mode": {
    "name": "ipython",
    "version": 3
   },
   "file_extension": ".py",
   "mimetype": "text/x-python",
   "name": "python",
   "nbconvert_exporter": "python",
   "pygments_lexer": "ipython3",
   "version": "3.9.12"
  },
  "orig_nbformat": 4,
  "vscode": {
   "interpreter": {
    "hash": "ff6bbc059f09f5d67763002880d565854665e18376ee4b40865bcf6ed65b96b4"
   }
  }
 },
 "nbformat": 4,
 "nbformat_minor": 2
}
